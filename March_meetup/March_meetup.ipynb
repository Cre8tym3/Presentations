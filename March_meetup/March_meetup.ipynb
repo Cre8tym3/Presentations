{
 "cells": [
  {
   "cell_type": "markdown",
   "metadata": {
    "slideshow": {
     "slide_type": "slide"
    }
   },
   "source": [
    "### Class Development Class\n",
    "#### By Chris"
   ]
  },
  {
   "cell_type": "markdown",
   "metadata": {
    "slideshow": {
     "slide_type": "subslide"
    }
   },
   "source": [
    "### How to start a module:  elevator pitch"
   ]
  },
  {
   "cell_type": "code",
   "execution_count": null,
   "metadata": {
    "collapsed": true,
    "slideshow": {
     "slide_type": "fragment"
    }
   },
   "outputs": [],
   "source": [
    "'Tasklr: the todo-list solution to all your problems.'"
   ]
  },
  {
   "cell_type": "markdown",
   "metadata": {
    "slideshow": {
     "slide_type": "subslide"
    }
   },
   "source": [
    "#### Making the class: class and instance variables"
   ]
  },
  {
   "cell_type": "code",
   "execution_count": 87,
   "metadata": {
    "collapsed": true,
    "slideshow": {
     "slide_type": "fragment"
    }
   },
   "outputs": [],
   "source": [
    "class Dog:\n",
    "\n",
    "    kind = 'canine'         # class variable shared by all instances\n",
    "\n",
    "    def __init__(self, name):\n",
    "        self.name = name    # instance variable unique to each instance"
   ]
  },
  {
   "cell_type": "code",
   "execution_count": 88,
   "metadata": {
    "collapsed": false,
    "slideshow": {
     "slide_type": "subslide"
    }
   },
   "outputs": [
    {
     "data": {
      "text/plain": [
       "'canine'"
      ]
     },
     "execution_count": 88,
     "metadata": {},
     "output_type": "execute_result"
    }
   ],
   "source": [
    "d = Dog('Fido')\n",
    "e = Dog('Buddy')\n",
    "d.kind"
   ]
  },
  {
   "cell_type": "code",
   "execution_count": 89,
   "metadata": {
    "collapsed": false,
    "slideshow": {
     "slide_type": "fragment"
    }
   },
   "outputs": [
    {
     "data": {
      "text/plain": [
       "'canine'"
      ]
     },
     "execution_count": 89,
     "metadata": {},
     "output_type": "execute_result"
    }
   ],
   "source": [
    "e.kind"
   ]
  },
  {
   "cell_type": "code",
   "execution_count": 57,
   "metadata": {
    "collapsed": false,
    "slideshow": {
     "slide_type": "fragment"
    }
   },
   "outputs": [],
   "source": [
    "class Dog:\n",
    "\n",
    "    tricks = []             # mistaken use of a class variable\n",
    "\n",
    "    def __init__(self, name):\n",
    "        self.name = name\n",
    "\n",
    "    def add_trick(self, trick):\n",
    "        self.tricks.append(trick)"
   ]
  },
  {
   "cell_type": "code",
   "execution_count": 58,
   "metadata": {
    "collapsed": false,
    "slideshow": {
     "slide_type": "subslide"
    }
   },
   "outputs": [
    {
     "data": {
      "text/plain": [
       "['roll over', 'play dead']"
      ]
     },
     "execution_count": 58,
     "metadata": {},
     "output_type": "execute_result"
    }
   ],
   "source": [
    "d = Dog('Fido')\n",
    "e = Dog('Buddy')\n",
    "d.add_trick('roll over')\n",
    "e.add_trick('play dead')\n",
    "d.tricks"
   ]
  },
  {
   "cell_type": "code",
   "execution_count": 60,
   "metadata": {
    "collapsed": true,
    "slideshow": {
     "slide_type": "subslide"
    }
   },
   "outputs": [],
   "source": [
    "'Tasklr: the todo-list solution to all your problems.'\n",
    "\n",
    "class Todolist():\n",
    "    'Todo-list for your things'\n",
    "    \n",
    "    version = '0.0'\n",
    "    \n",
    "    def __init__(self, list_title):\n",
    "        self.list_title = list_title\n",
    "        self.the_list = []"
   ]
  },
  {
   "cell_type": "code",
   "execution_count": 61,
   "metadata": {
    "collapsed": true,
    "slideshow": {
     "slide_type": "subslide"
    }
   },
   "outputs": [],
   "source": [
    "tdl = Todolist('mylist')"
   ]
  },
  {
   "cell_type": "code",
   "execution_count": 62,
   "metadata": {
    "collapsed": false,
    "slideshow": {
     "slide_type": "fragment"
    }
   },
   "outputs": [
    {
     "name": "stdout",
     "output_type": "stream",
     "text": [
      "<__main__.Todolist object at 0x7f5f8c0fe940>\n"
     ]
    }
   ],
   "source": [
    "print(tdl)"
   ]
  },
  {
   "cell_type": "code",
   "execution_count": 63,
   "metadata": {
    "collapsed": false,
    "slideshow": {
     "slide_type": "subslide"
    }
   },
   "outputs": [],
   "source": [
    "class Todolist():\n",
    "    'Todo-list for your things'\n",
    "    \n",
    "    version = '0.0'\n",
    "    \n",
    "    def __init__(self, list_title):\n",
    "        self.list_title = list_title\n",
    "        self.the_list = []\n",
    "        \n",
    "    def add(self, item):\n",
    "        'Add an item to the list'\n",
    "        self.the_list.append(item)\n",
    "        \n",
    "    def getitem(self, number):\n",
    "        'Get the numbered item from the list'\n",
    "        return self.the_list[number-1]\n",
    "        \n",
    "    def __str__(self):\n",
    "        title_string = f\"Title: {self.list_title}\\n\"\n",
    "        item_string = \"\\n\".join(f\"  {number}. {item}\" \n",
    "                        for number, item in enumerate(self.the_list, 1))\n",
    "        return title_string + item_string"
   ]
  },
  {
   "cell_type": "code",
   "execution_count": 64,
   "metadata": {
    "collapsed": true,
    "slideshow": {
     "slide_type": "subslide"
    }
   },
   "outputs": [],
   "source": [
    "tdl = Todolist('My List')\n",
    "tdl.add('Clean the animals.')\n",
    "tdl.add('Shave the lawn.')"
   ]
  },
  {
   "cell_type": "code",
   "execution_count": 65,
   "metadata": {
    "collapsed": false,
    "slideshow": {
     "slide_type": "fragment"
    }
   },
   "outputs": [
    {
     "name": "stdout",
     "output_type": "stream",
     "text": [
      "Title: My List\n",
      "  1. Clean the animals.\n",
      "  2. Shave the lawn.\n"
     ]
    }
   ],
   "source": [
    " print(tdl)"
   ]
  },
  {
   "cell_type": "markdown",
   "metadata": {
    "slideshow": {
     "slide_type": "subslide"
    }
   },
   "source": [
    "#### First corporate client: The VA"
   ]
  },
  {
   "cell_type": "markdown",
   "metadata": {
    "slideshow": {
     "slide_type": "fragment"
    }
   },
   "source": [
    "* Requirement: EVERY GETITEM MUST PRINT IN CAPS"
   ]
  },
  {
   "cell_type": "code",
   "execution_count": 66,
   "metadata": {
    "collapsed": true,
    "slideshow": {
     "slide_type": "fragment"
    }
   },
   "outputs": [],
   "source": [
    "class VAList(Todolist):\n",
    "    'Todo-list for the VA'\n",
    "    \n",
    "    def getitem(self, number):\n",
    "        'Get numbered item from todolist, capitalized for the VA'\n",
    "        return Todolist.getitem(self, number).upper()"
   ]
  },
  {
   "cell_type": "code",
   "execution_count": 67,
   "metadata": {
    "collapsed": false,
    "slideshow": {
     "slide_type": "subslide"
    }
   },
   "outputs": [
    {
     "name": "stdout",
     "output_type": "stream",
     "text": [
      "SCRUB THE ROOMS.\n"
     ]
    }
   ],
   "source": [
    "valist = VAList('My VA List')\n",
    "valist.add('Scrub the rooms.')\n",
    "print(valist.getitem(1))"
   ]
  },
  {
   "cell_type": "markdown",
   "metadata": {
    "slideshow": {
     "slide_type": "subslide"
    }
   },
   "source": [
    "#### Initech: software company wants a bug tracker"
   ]
  },
  {
   "cell_type": "markdown",
   "metadata": {
    "slideshow": {
     "slide_type": "fragment"
    }
   },
   "source": [
    "* Requirement: need to make todolist from a list of strings (bugs)"
   ]
  },
  {
   "cell_type": "markdown",
   "metadata": {
    "slideshow": {
     "slide_type": "fragment"
    }
   },
   "source": [
    "* Solution: make a new constructor!"
   ]
  },
  {
   "cell_type": "code",
   "execution_count": null,
   "metadata": {
    "collapsed": true,
    "slideshow": {
     "slide_type": "subslide"
    }
   },
   "outputs": [],
   "source": [
    "@classmethod\n",
    "def from_list(cls, buglist):\n",
    "    'Create a todolist using a list of strings'\n",
    "    new_buglist = Todolist('Default Buglist')\n",
    "    for bug in buglist:\n",
    "        new_buglist.add(bug)\n",
    "    return new_buglist"
   ]
  },
  {
   "cell_type": "code",
   "execution_count": null,
   "metadata": {
    "collapsed": true,
    "slideshow": {
     "slide_type": "subslide"
    }
   },
   "outputs": [],
   "source": [
    "@classmethod\n",
    "def from_list(cls, buglist):\n",
    "    'Create a todolist using a list of strings'\n",
    "    new_buglist = cls('Default Buglist')\n",
    "    for bug in buglist:\n",
    "        new_buglist.add(bug)\n",
    "    return new_buglist"
   ]
  },
  {
   "cell_type": "code",
   "execution_count": 68,
   "metadata": {
    "collapsed": true,
    "slideshow": {
     "slide_type": "subslide"
    }
   },
   "outputs": [],
   "source": [
    "class Todolist():\n",
    "    'Todo-list for your things'\n",
    "    \n",
    "    version = '0.0'\n",
    "    \n",
    "    def __init__(self, list_title):\n",
    "        self.list_title = list_title\n",
    "        self.the_list = []\n",
    "        \n",
    "    def add(self, item):\n",
    "        'Add an item to the list'\n",
    "        self.the_list.append(item)\n",
    "        \n",
    "    def getitem(self, number):\n",
    "        'Get the numbered item from the list'\n",
    "        return self.the_list[number-1]\n",
    "        \n",
    "    def __str__(self):\n",
    "        title_string = f\"Title: {self.list_title}\\n\"\n",
    "        item_string = \"\\n\".join(f\"  {number}. {item}\" \n",
    "                        for number, item in enumerate(self.the_list, 1))\n",
    "        return title_string + item_string\n",
    "    \n",
    "    @classmethod\n",
    "    def from_list(cls, buglist):\n",
    "        'Create a todolist using a list of strings'\n",
    "        new_buglist = cls('Default Buglist')\n",
    "        for bug in buglist:\n",
    "            new_buglist.add(bug)\n",
    "        return new_buglist"
   ]
  },
  {
   "cell_type": "code",
   "execution_count": 69,
   "metadata": {
    "collapsed": false,
    "slideshow": {
     "slide_type": "subslide"
    }
   },
   "outputs": [
    {
     "name": "stdout",
     "output_type": "stream",
     "text": [
      "Title: Default Buglist\n",
      "  1. Fix off-by-one error.\n",
      "  2. Patch for v3.0.\n"
     ]
    }
   ],
   "source": [
    "bugs = ['Fix off-by-one error.', 'Patch for v3.0.']\n",
    "bug_todolist = Todolist.from_list(bugs)\n",
    "print(bug_todolist)"
   ]
  },
  {
   "cell_type": "markdown",
   "metadata": {
    "slideshow": {
     "slide_type": "subslide"
    }
   },
   "source": [
    "#### New Client:"
   ]
  },
  {
   "cell_type": "markdown",
   "metadata": {
    "slideshow": {
     "slide_type": "fragment"
    }
   },
   "source": [
    "* It's the Wu-Tang.  They're using your app to track their rhymes."
   ]
  },
  {
   "cell_type": "markdown",
   "metadata": {
    "slideshow": {
     "slide_type": "fragment"
    }
   },
   "source": [
    "* They wish there was a function to count how many of each word is in each task before they put it in."
   ]
  },
  {
   "cell_type": "code",
   "execution_count": 82,
   "metadata": {
    "collapsed": true,
    "slideshow": {
     "slide_type": "subslide"
    }
   },
   "outputs": [],
   "source": [
    "def unique_word_count(task_string):\n",
    "    from collections import Counter\n",
    "    counts = Counter(task_string.lower().split())\n",
    "    print(counts)"
   ]
  },
  {
   "cell_type": "code",
   "execution_count": 83,
   "metadata": {
    "collapsed": false,
    "slideshow": {
     "slide_type": "subslide"
    }
   },
   "outputs": [
    {
     "name": "stdout",
     "output_type": "stream",
     "text": [
      "Counter({'like': 2, 'i': 1, 'come': 1, 'rough,': 1, 'tough': 1, 'an': 1, 'elephant': 1, 'tusk': 1, 'your': 1, 'head': 1, 'rush,': 1, 'fly': 1, 'egyptian': 1, 'musk': 1})\n"
     ]
    }
   ],
   "source": [
    "unique_word_count(\"\"\"\n",
    "                I come rough, tough like an elephant tusk\n",
    "                Your head rush, fly like Egyptian musk\n",
    "                \"\"\")"
   ]
  },
  {
   "cell_type": "markdown",
   "metadata": {
    "slideshow": {
     "slide_type": "subslide"
    }
   },
   "source": [
    "##### In a class it would look like this:"
   ]
  },
  {
   "cell_type": "code",
   "execution_count": null,
   "metadata": {
    "collapsed": true,
    "slideshow": {
     "slide_type": "fragment"
    }
   },
   "outputs": [],
   "source": [
    "def unique_word_count(self, task_string):\n",
    "    from collections import Counter\n",
    "    counts = Counter(task_string.lower().split())\n",
    "    print(counts)"
   ]
  },
  {
   "cell_type": "markdown",
   "metadata": {
    "slideshow": {
     "slide_type": "fragment"
    }
   },
   "source": [
    "* Notice: we never use self!"
   ]
  },
  {
   "cell_type": "code",
   "execution_count": null,
   "metadata": {
    "collapsed": true,
    "slideshow": {
     "slide_type": "subslide"
    }
   },
   "outputs": [],
   "source": [
    "@staticmethod\n",
    "def unique_word_count(task_string):\n",
    "    from collections import Counter\n",
    "    counts = Counter(task_string.lower().split())\n",
    "    print(counts)"
   ]
  },
  {
   "cell_type": "code",
   "execution_count": null,
   "metadata": {
    "collapsed": true,
    "slideshow": {
     "slide_type": "subslide"
    }
   },
   "outputs": [],
   "source": [
    "class Todolist():\n",
    "    'Todo-list for your things'\n",
    "    \n",
    "    version = '0.0'\n",
    "    \n",
    "    def __init__(self, list_title):\n",
    "        self.list_title = list_title\n",
    "        self.the_list = []\n",
    "        \n",
    "    def add(self, item):\n",
    "        'Add an item to the list'\n",
    "        self.the_list.append(item)\n",
    "        \n",
    "    def getitem(self, number):\n",
    "        'Get the numbered item from the list'\n",
    "        return self.the_list[number-1]\n",
    "        \n",
    "    def __str__(self):\n",
    "        title_string = f\"Title: {self.list_title}\\n\"\n",
    "        item_string = \"\\n\".join(f\"  {number}. {item}\" \n",
    "                        for number, item in enumerate(self.the_list, 1))\n",
    "        return title_string + item_string\n",
    "    \n",
    "    @classmethod\n",
    "    def from_list(cls, buglist):\n",
    "        'Create a todolist using a list of strings'\n",
    "        new_buglist = cls('Default Buglist')\n",
    "        for bug in buglist:\n",
    "            new_buglist.add(bug)\n",
    "        return new_buglist\n",
    "    \n",
    "    @staticmethod\n",
    "    def unique_word_count(task_string):\n",
    "        from collections import Counter\n",
    "        counts = Counter(task_string.lower().split())\n",
    "        print(counts)"
   ]
  },
  {
   "cell_type": "markdown",
   "metadata": {
    "slideshow": {
     "slide_type": "subslide"
    }
   },
   "source": [
    "#### New Guideline: "
   ]
  },
  {
   "cell_type": "markdown",
   "metadata": {
    "slideshow": {
     "slide_type": "fragment"
    }
   },
   "source": [
    "* Let's say you've been using the attribute task_count to track the number of items in your todo-list. (Bad idea obviously)"
   ]
  },
  {
   "cell_type": "markdown",
   "metadata": {
    "slideshow": {
     "slide_type": "fragment"
    }
   },
   "source": [
    "* Your board of directors says you can no longer do that."
   ]
  },
  {
   "cell_type": "markdown",
   "metadata": {
    "slideshow": {
     "slide_type": "fragment"
    }
   },
   "source": [
    "* But, client code still uses the task_count attribute!"
   ]
  },
  {
   "cell_type": "code",
   "execution_count": null,
   "metadata": {
    "collapsed": true,
    "slideshow": {
     "slide_type": "subslide"
    }
   },
   "outputs": [],
   "source": [
    "@property\n",
    "def task_count(self):\n",
    "    'Return the number of tasks in the list'\n",
    "    return len(self.the_list)\n",
    "    \n",
    "@task_count.setter\n",
    "def task_count(self, number):\n",
    "    'Set the number of tasks in the list no matter what'\n",
    "    if len(self.the_list) > number:\n",
    "        self.the_list = self.the_list[:number]\n",
    "    else if len(self.the_list) < number:\n",
    "        from itertools import repeat\n",
    "        self.the_list.extend(list(\n",
    "            repeat('Placeholder task', number - len(self.the_list))))"
   ]
  },
  {
   "cell_type": "code",
   "execution_count": 84,
   "metadata": {
    "collapsed": false,
    "slideshow": {
     "slide_type": "subslide"
    }
   },
   "outputs": [],
   "source": [
    "class Todolist():\n",
    "    'Todo-list for your things'\n",
    "    \n",
    "    version = '0.0'\n",
    "    \n",
    "    def __init__(self, list_title):\n",
    "        self.list_title = list_title\n",
    "        self.the_list = []\n",
    "        \n",
    "    @property\n",
    "    def task_count(self):\n",
    "        'Return the number of tasks in the list'\n",
    "        return len(self.the_list)\n",
    "    \n",
    "    @task_count.setter\n",
    "    def task_count(self, number):\n",
    "        'Set the number of tasks in the list no matter what'\n",
    "        if len(self.the_list) > number:\n",
    "            self.the_list = self.the_list[:number]\n",
    "        elif len(self.the_list) < number:\n",
    "            from itertools import repeat\n",
    "            self.the_list.extend(list(\n",
    "                repeat('Placeholder task', number - len(self.the_list))))\n",
    "        \n",
    "        \n",
    "    def add(self, item):\n",
    "        'Add an item to the list'\n",
    "        self.the_list.append(item)\n",
    "        \n",
    "    def getitem(self, number):\n",
    "        'Get the numbered item from the list'\n",
    "        return self.the_list[number-1]\n",
    "        \n",
    "    def __str__(self):\n",
    "        title_string = f\"Title: {self.list_title}\\n\"\n",
    "        item_string = \"\\n\".join(f\"  {number}. {item}\" \n",
    "                        for number, item in enumerate(self.the_list, 1))\n",
    "        return title_string + item_string\n",
    "    \n",
    "    @classmethod\n",
    "    def from_list(cls, buglist):\n",
    "        'Create a todolist using a list of strings'\n",
    "        new_buglist = cls('Default Buglist')\n",
    "        for bug in buglist:\n",
    "            new_buglist.add(bug)\n",
    "        return new_buglist\n",
    "    \n",
    "    @staticmethod\n",
    "    def unique_word_count(task_string):\n",
    "        from collections import Counter\n",
    "        counts = Counter(task_string.lower().split())\n",
    "        print(counts)"
   ]
  },
  {
   "cell_type": "code",
   "execution_count": 85,
   "metadata": {
    "collapsed": false,
    "slideshow": {
     "slide_type": "subslide"
    }
   },
   "outputs": [
    {
     "name": "stdout",
     "output_type": "stream",
     "text": [
      "1\n"
     ]
    }
   ],
   "source": [
    "testlist = Todolist('My List')\n",
    "testlist.add('Brush the plants')\n",
    "print(testlist.task_count)"
   ]
  },
  {
   "cell_type": "code",
   "execution_count": 86,
   "metadata": {
    "collapsed": false,
    "slideshow": {
     "slide_type": "fragment"
    }
   },
   "outputs": [
    {
     "name": "stdout",
     "output_type": "stream",
     "text": [
      "Title: My List\n",
      "  1. Brush the plants\n",
      "  2. Placeholder task\n",
      "  3. Placeholder task\n",
      "  4. Placeholder task\n",
      "  5. Placeholder task\n"
     ]
    }
   ],
   "source": [
    "testlist.task_count = 5\n",
    "print(testlist)"
   ]
  },
  {
   "cell_type": "code",
   "execution_count": null,
   "metadata": {
    "collapsed": true
   },
   "outputs": [],
   "source": []
  }
 ],
 "metadata": {
  "celltoolbar": "Slideshow",
  "kernelspec": {
   "display_name": "Python 3",
   "language": "python",
   "name": "python3"
  },
  "language_info": {
   "codemirror_mode": {
    "name": "ipython",
    "version": 3
   },
   "file_extension": ".py",
   "mimetype": "text/x-python",
   "name": "python",
   "nbconvert_exporter": "python",
   "pygments_lexer": "ipython3",
   "version": "3.6.0"
  }
 },
 "nbformat": 4,
 "nbformat_minor": 2
}
